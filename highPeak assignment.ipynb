{
 "cells": [
  {
   "cell_type": "code",
   "execution_count": null,
   "id": "7eab2d09",
   "metadata": {},
   "outputs": [],
   "source": [
    "import sys\n",
    "# importing sys beacuse we will use sys.maxsize in the below code\n",
    "\n",
    "\n",
    "# calculating miminum diffrence and updating the result\n",
    "def minimumDif(arr,n,m):\n",
    "    result=sys.maxsize\n",
    "    arr.sort()\n",
    "    for i in range(0,n-m):\n",
    "        result=min(result,arr[i+m-1]-arr[i])\n",
    "    return result\n",
    "\n",
    "# Finding the element and comparing with the result\n",
    "def findElement(arr,n,m,res):\n",
    "    result=sys.maxsize\n",
    "    for i in range(0,n-m):\n",
    "        result= min(result,arr[i+m-1]-arr[i])\n",
    "        if(res==result):\n",
    "            return i\n",
    "    return 0\n",
    "\n",
    "\n",
    "# driver code\n",
    "\n",
    "arr=[7980,22349,999,2799,229900,11101,9999,2195,9800,4999]\n",
    "items=[\"Fitbit Plus: 7980\", \"IPods: 22349\",\" MI Band: 999 \",\"Cult Pass: 2799\",\" Macbook Pro: 229900\",\" Digital Camera: 11101\",\" Alexa: 9999\",\" Sandwich Toaster: 2195\",\" Microwave Oven: 9800\",\" Scale: 4999\"]\n",
    "n=len(arr)\n",
    "print(\" Enter the number of employeess\")\n",
    "m=int(input())\n",
    "res=minimumDif(arr,n,m)\n",
    "print(\" Number of employeess\",m)\n",
    "startIndex=findElement(arr,n,m,res)\n",
    "print(\" Here the goodies that are selected for distribution are :\")\n",
    "for i in range(startIndex,startIndex+m):\n",
    "    print(items[i])\n",
    "print()\n",
    "print(\" And the diffrence between the chosen goodies with the highest price and lowest price is :\",res)"
   ]
  },
  {
   "cell_type": "code",
   "execution_count": null,
   "id": "3ac1c99d",
   "metadata": {},
   "outputs": [],
   "source": []
  },
  {
   "cell_type": "code",
   "execution_count": null,
   "id": "2e7bc97e",
   "metadata": {},
   "outputs": [],
   "source": []
  },
  {
   "cell_type": "code",
   "execution_count": null,
   "id": "49445599",
   "metadata": {},
   "outputs": [],
   "source": []
  },
  {
   "cell_type": "code",
   "execution_count": null,
   "id": "b187e322",
   "metadata": {},
   "outputs": [],
   "source": []
  }
 ],
 "metadata": {
  "kernelspec": {
   "display_name": "Python 3 (ipykernel)",
   "language": "python",
   "name": "python3"
  },
  "language_info": {
   "codemirror_mode": {
    "name": "ipython",
    "version": 3
   },
   "file_extension": ".py",
   "mimetype": "text/x-python",
   "name": "python",
   "nbconvert_exporter": "python",
   "pygments_lexer": "ipython3",
   "version": "3.8.8"
  }
 },
 "nbformat": 4,
 "nbformat_minor": 5
}
